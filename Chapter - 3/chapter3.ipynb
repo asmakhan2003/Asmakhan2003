{
  "nbformat": 4,
  "nbformat_minor": 0,
  "metadata": {
    "colab": {
      "provenance": []
    },
    "kernelspec": {
      "name": "python3",
      "display_name": "Python 3"
    },
    "language_info": {
      "name": "python"
    }
  },
  "cells": [
    {
      "cell_type": "code",
      "execution_count": null,
      "metadata": {
        "id": "Gck0lEwkXbW5"
      },
      "outputs": [],
      "source": [
        "Exercise 1: Names ☑️\n",
        "Store the names of a few of your friends in a list called names. Print each person’s name by accessing each element in the list, one at a\n",
        "\n",
        "time."
      ]
    },
    {
      "cell_type": "code",
      "source": [],
      "metadata": {
        "id": "Ak4fccuFXe6l"
      },
      "execution_count": null,
      "outputs": []
    },
    {
      "cell_type": "code",
      "source": [
        "Exercise 2: Greetings ☑️\n",
        "Start with the list you used in Exercise 1, but instead of just\n",
        "\n",
        "printing each person’s name, print a message to them. The text of each message should be the same, but each message should be\n",
        "\n",
        "personalized with the person’s name."
      ],
      "metadata": {
        "id": "9AryOkDxXkte"
      },
      "execution_count": null,
      "outputs": []
    }
  ]
}