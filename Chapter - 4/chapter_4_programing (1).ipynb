{
  "nbformat": 4,
  "nbformat_minor": 0,
  "metadata": {
    "colab": {
      "provenance": []
    },
    "kernelspec": {
      "name": "python3",
      "display_name": "Python 3"
    },
    "language_info": {
      "name": "python"
    }
  },
  "cells": [
    {
      "cell_type": "markdown",
      "source": [
        "Imagine an alien was just shot down in a game. Create a variable called alien_color and assign it a value of 'green', 'yellow', or 'red'.\n",
        "\n",
        "•Write an if statement to test whether the alien’s color is green. If it is, print a message that the player just earned 5 points.\n",
        "\n",
        "•Write one version of this program that passes the if test and another that fails. (The version that fails will have no output.)\n",
        "\n",
        "   "
      ],
      "metadata": {
        "id": "XvOuwkEddvzo"
      }
    },
    {
      "cell_type": "code",
      "execution_count": null,
      "metadata": {
        "colab": {
          "base_uri": "https://localhost:8080/"
        },
        "id": "4dveUae9JqhQ",
        "outputId": "60573fe7-f6d7-44e4-bd8f-9b8c21eb8eeb"
      },
      "outputs": [
        {
          "output_type": "stream",
          "name": "stdout",
          "text": [
            "congratulaion, you have earned 5 points.\n"
          ]
        }
      ],
      "source": [
        "# exercise 1:\n",
        "\n",
        "# condition is true in this section\n",
        "alien_color = 'green'\n",
        "\n",
        "if alien_color == 'green':\n",
        "   print('congratulaion, you have earned 5 points.')    \n",
        "\n",
        "# the condition is false , there will no output in this section\n",
        "alien_color = 'blue'  \n",
        "\n",
        "\n",
        "if alien_color ==  'green':\n",
        "   print('congratulation, you have earned 5 points.') \n",
        "\n",
        "                    # a program teach us how to changing the color of alien while is any color or no its true or false.\n"
      ]
    },
    {
      "cell_type": "markdown",
      "source": [
        "Imagine an alien was just shot down in a game. Create a variable called alien_color and assign it a value of 'green', 'yellow', or 'red'.\n",
        "\n",
        "•Write an if statement to test whether the alien’s color is green. If it is, print a message that the player just earned 5 points.\n",
        "\n",
        "•Write one version of this program that passes the if test and another that fails. (The version that fails will have no output.)\n",
        "\n",
        "   "
      ],
      "metadata": {
        "id": "t3ZfuWPsegyj"
      }
    },
    {
      "cell_type": "code",
      "source": [
        "\n",
        "# if statemnet is true in this section\n",
        "alien_color = 'blue'\n",
        "\n",
        "if alien_color == 'blue':\n",
        "  print('congratulations, you have earned 5 points,')\n",
        "\n",
        "else:\n",
        "  print('congratulations, you have earned 10 points.')\n",
        "\n",
        "#else statement is true\n",
        "  alien_color = 'grey'\n",
        "    \n",
        "if alien_color == 'blue':\n",
        "   print('congratulations, you have earned 5 points.')\n",
        "\n",
        "else:\n",
        "  print('congratulations, you have earned 10 points.')\n",
        "  \n",
        "\n",
        "                          # a program which demostrate the working of if and else statements."
      ],
      "metadata": {
        "colab": {
          "base_uri": "https://localhost:8080/"
        },
        "id": "wdJu13WwMVjX",
        "outputId": "91f378e5-8c9d-47c9-f42f-e5ef24726a5d"
      },
      "execution_count": null,
      "outputs": [
        {
          "output_type": "stream",
          "name": "stdout",
          "text": [
            "congratulations, you have earned 5 points,\n",
            "congratulations, you have earned 5 points.\n"
          ]
        }
      ]
    },
    {
      "cell_type": "code",
      "source": [],
      "metadata": {
        "id": "BI-ulVMdQDpQ"
      },
      "execution_count": null,
      "outputs": []
    },
    {
      "cell_type": "markdown",
      "source": [
        "Turn your if-else chain from Exercise 5-4 into an if-elifelse chain.\n",
        "\n",
        "• If the alien is green, print a message that the player earned 5 points.\n",
        "\n",
        "• If the alien is yellow, print a message that the player earned 10 points.\n",
        "\n",
        "• If the alien is red, print a message that the player earned 15 points.\n",
        "\n",
        "• Write three versions of this program, making sure each message is printed for the appropriate color alien."
      ],
      "metadata": {
        "id": "ag_ll6KnfIfG"
      }
    },
    {
      "cell_type": "code",
      "source": [
        "\n",
        "\n",
        "# in this section, the first condition is true\n",
        "alien_color = 'purple'\n",
        "\n",
        "if alien_color == 'purple':\n",
        "   print('you have earned 5 points.')\n",
        "\n",
        "elif alien_color == 'grey':\n",
        "     print('you have earned 10 points.') \n",
        "\n",
        "else: \n",
        "   print('you earned 15 points.')     \n",
        "\n",
        "# in this section, the second condition is true \n",
        "alien_color = 'grey'  \n",
        "\n",
        "if alien_color == 'purple':\n",
        "   print('you have earned 5 points,')\n",
        "\n",
        "\n",
        "           # a program demostrate working on the if_ elif_statements.\n"
      ],
      "metadata": {
        "colab": {
          "base_uri": "https://localhost:8080/"
        },
        "id": "D3hOJNKAPbJ6",
        "outputId": "38254690-f62a-4ffd-abb9-db18a6a71032"
      },
      "execution_count": null,
      "outputs": [
        {
          "output_type": "stream",
          "name": "stdout",
          "text": [
            "you have earned 5 points.\n"
          ]
        }
      ]
    },
    {
      "cell_type": "markdown",
      "source": [
        "Write an if-elif-else chain that determines a person’s stage of life. Set a value for the variable age, and then:\n",
        "\n",
        "•If the person is less than 2 years old, print a message that the person is a baby.\n",
        "\n",
        "•If the person is at least 2 years old but less than 4, print a message that the person is a toddler.\n",
        "\n",
        "•If the person is at least 4 years old but less than 13, print a message that the person is a kid.\n",
        "\n",
        "•If the person is at least 13 years old but less than 20, print a message that the person is a teenager.\n",
        "\n",
        "•If the person is at least 20 years old but less than 65, print a message that the person is an adult.\n",
        "\n",
        "•If the person is age 65 or older, print a message that the person is an elder."
      ],
      "metadata": {
        "id": "ATj0RqvgfZgX"
      }
    },
    {
      "cell_type": "code",
      "source": [
        "\n",
        "print('enter your age =')\n",
        "age = int(input()) \n",
        "\n",
        "if age < 2:\n",
        "      print(' your are an infant')\n",
        "\n",
        "elif age == 2 or age < 4:\n",
        "      print('you are a toddler')\n",
        "\n",
        "elif age == 4 or age < 13:\n",
        "      print('you are kid')\n",
        "\n",
        "elif age == 13 or age < 20:\n",
        "      print('you are teenager')\n",
        "\n",
        "elif age == 20 or age < 75:\n",
        "      print(' you are an adult')\n",
        "\n",
        "else:\n",
        "     print(' you are sn elder')\n",
        "\n",
        "          # A program that tells about the age and lifes .\n"
      ],
      "metadata": {
        "colab": {
          "base_uri": "https://localhost:8080/"
        },
        "id": "YGJvDcViSFol",
        "outputId": "c3747cbc-a006-4d4e-a8ce-f9754c8f7c8d"
      },
      "execution_count": null,
      "outputs": [
        {
          "output_type": "stream",
          "name": "stdout",
          "text": [
            "enter your age =\n",
            "18 \n",
            "you are teenager\n"
          ]
        }
      ]
    },
    {
      "cell_type": "code",
      "source": [
        "\n",
        "\n",
        "fav_fruits =['apple', 'orange', 'banana',]\n",
        "\n",
        "\n",
        "if 'apple'in fav_fruits:\n",
        "   print('damn, you really like apple.')\n",
        "\n",
        "\n",
        "if 'orange' in fav_fruits:\n",
        "   print('damn, you really like orange.')\n",
        "\n",
        "if 'banana' in fav_fruits:\n",
        "   print('damn,you really like banana.')\n",
        "\n",
        "if 'apple' in fav_fruits:\n",
        "   print('damn ,you really like apples.')\n",
        "\n",
        "if 'orange' in fav_fruits: \n",
        "   print(' damn, you really like oranges.')\n",
        "\n",
        "                    # its a program which teach us about the list and conditional statement which combine."
      ],
      "metadata": {
        "colab": {
          "base_uri": "https://localhost:8080/"
        },
        "id": "O8o37-acXv-h",
        "outputId": "683fadbf-4b86-4861-d786-e7e28fbf4d42"
      },
      "execution_count": null,
      "outputs": [
        {
          "output_type": "stream",
          "name": "stdout",
          "text": [
            "damn, you really like apple.\n",
            "damn, you really like orange.\n",
            "damn,you really like banana.\n",
            "damn ,you really like apples.\n",
            " damn, you really like oranges.\n"
          ]
        }
      ]
    }
  ]
}